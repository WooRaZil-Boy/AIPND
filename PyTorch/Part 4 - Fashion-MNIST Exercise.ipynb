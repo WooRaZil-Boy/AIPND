{
 "cells": [
  {
   "cell_type": "markdown",
   "metadata": {},
   "source": [
    "# Classifying Fashion-MNIST\n",
    "\n",
    "Now it's your turn to build and train a neural network. You'll be using the [Fashion-MNIST dataset](https://github.com/zalandoresearch/fashion-mnist), a drop-in replacement for the MNIST dataset. MNIST is actually quite trivial with neural networks where you can easily achieve better than 97% accuracy. Fashion-MNIST is a set of 28x28 greyscale images of clothes. It's more complex than MNIST, so it's a better representation of the actual performance of your network, and a better representation of datasets you'll use in the real world.\n",
    "\n",
    "<img src='assets/fashion-mnist-sprite.png' width=500px>\n",
    "\n",
    "In this notebook, you'll build your own neural network. For the most part, you could just copy and paste the code from Part 3, but you wouldn't be learning. It's important for you to write the code yourself and get it to work. Feel free to consult the previous notebook though as you work through this.\n",
    "\n",
    "First off, let's load the dataset through torchvision."
   ]
  },
  {
   "cell_type": "code",
   "execution_count": 1,
   "metadata": {},
   "outputs": [],
   "source": [
    "import torch\n",
    "from torchvision import datasets, transforms\n",
    "import helper\n",
    "\n",
    "# Define a transform to normalize the data\n",
    "transform = transforms.Compose([transforms.ToTensor(),\n",
    "                                transforms.Normalize((0.5, 0.5, 0.5), (0.5, 0.5, 0.5))])\n",
    "# Download and load the training data\n",
    "trainset = datasets.FashionMNIST('F_MNIST_data/', download=True, train=True, transform=transform)\n",
    "trainloader = torch.utils.data.DataLoader(trainset, batch_size=64, shuffle=True)\n",
    "\n",
    "# Download and load the test data\n",
    "testset = datasets.FashionMNIST('F_MNIST_data/', download=True, train=False, transform=transform)\n",
    "testloader = torch.utils.data.DataLoader(testset, batch_size=64, shuffle=True)"
   ]
  },
  {
   "cell_type": "markdown",
   "metadata": {},
   "source": [
    "Here we can see one of the images."
   ]
  },
  {
   "cell_type": "code",
   "execution_count": 2,
   "metadata": {},
   "outputs": [
    {
     "data": {
      "image/png": "[encoded data removed]",
      "text/plain": [
       "<matplotlib.figure.Figure at 0x7f172996c320>"
      ]
     },
     "metadata": {},
     "output_type": "display_data"
    }
   ],
   "source": [
    "image, label = next(iter(trainloader))\n",
    "helper.imshow(image[0,:]);"
   ]
  },
  {
   "cell_type": "markdown",
   "metadata": {},
   "source": [
    "With the data loaded, it's time to import the necessary packages."
   ]
  },
  {
   "cell_type": "code",
   "execution_count": 3,
   "metadata": {},
   "outputs": [],
   "source": [
    "%matplotlib inline\n",
    "%config InlineBackend.figure_format = 'retina'\n",
    "\n",
    "import matplotlib.pyplot as plt\n",
    "import numpy as np\n",
    "import time\n",
    "\n",
    "import torch\n",
    "from torch import nn\n",
    "from torch import optim\n",
    "import torch.nn.functional as F\n",
    "from torchvision import datasets, transforms\n",
    "\n",
    "import helper"
   ]
  },
  {
   "cell_type": "markdown",
   "metadata": {},
   "source": [
    "## Building the network\n",
    "\n",
    "Here you should define your network. As with MNIST, each image is 28x28 which is a total of 784 pixels, and there are 10 classes. You should include at least one hidden layer. We suggest you use ReLU activations for the layers and to return the logits from the forward pass. It's up to you how many layers you add and the size of those layers."
   ]
  },
  {
   "cell_type": "code",
   "execution_count": 4,
   "metadata": {},
   "outputs": [],
   "source": [
    "# TODO: Define your network architecture here\n",
    "input_size = 784\n",
    "hidden_sizes = [128, 64]\n",
    "output_size = 10\n",
    "\n",
    "model = nn.Sequential(nn.Linear(input_size, hidden_sizes[0]),\n",
    "                      nn.ReLU(),\n",
    "                      nn.Linear(hidden_sizes[0], hidden_sizes[1]),\n",
    "                      nn.ReLU(),\n",
    "                      nn.Linear(hidden_sizes[1], output_size),\n",
    "                      nn.Softmax(dim=1))"
   ]
  },
  {
   "cell_type": "markdown",
   "metadata": {},
   "source": [
    "# Train the network\n",
    "\n",
    "Now you should create your network and train it. First you'll want to define [the criterion](http://pytorch.org/docs/master/nn.html#loss-functions) ( something like `nn.CrossEntropyLoss`) and [the optimizer](http://pytorch.org/docs/master/optim.html) (typically `optim.SGD` or `optim.Adam`).\n",
    "\n",
    "Then write the training code. Remember the training pass is a fairly straightforward process:\n",
    "\n",
    "* Make a forward pass through the network to get the logits \n",
    "* Use the logits to calculate the loss\n",
    "* Perform a backward pass through the network with `loss.backward()` to calculate the gradients\n",
    "* Take a step with the optimizer to update the weights\n",
    "\n",
    "By adjusting the hyperparameters (hidden units, learning rate, etc), you should be able to get the training loss below 0.4."
   ]
  },
  {
   "cell_type": "code",
   "execution_count": 5,
   "metadata": {},
   "outputs": [],
   "source": [
    "# TODO: Create the network, define the criterion and optimizer\n",
    "criterion = nn.CrossEntropyLoss() #손실 함수\n",
    "optimizer = optim.SGD(model.parameters(), lr=0.01) #최적화 함수"
   ]
  },
  {
   "cell_type": "code",
   "execution_count": 6,
   "metadata": {},
   "outputs": [
    {
     "name": "stdout",
     "output_type": "stream",
     "text": [
      "Epoch: 1/3...  Loss: 2.3018\n",
      "Epoch: 1/3...  Loss: 2.3000\n",
      "Epoch: 1/3...  Loss: 2.2988\n",
      "Epoch: 1/3...  Loss: 2.2972\n",
      "Epoch: 1/3...  Loss: 2.2957\n",
      "Epoch: 1/3...  Loss: 2.2940\n",
      "Epoch: 1/3...  Loss: 2.2927\n",
      "Epoch: 1/3...  Loss: 2.2905\n",
      "Epoch: 1/3...  Loss: 2.2887\n",
      "Epoch: 1/3...  Loss: 2.2852\n",
      "Epoch: 1/3...  Loss: 2.2831\n",
      "Epoch: 1/3...  Loss: 2.2811\n",
      "Epoch: 1/3...  Loss: 2.2754\n",
      "Epoch: 1/3...  Loss: 2.2718\n",
      "Epoch: 1/3...  Loss: 2.2666\n",
      "Epoch: 1/3...  Loss: 2.2593\n",
      "Epoch: 1/3...  Loss: 2.2533\n",
      "Epoch: 1/3...  Loss: 2.2433\n",
      "Epoch: 1/3...  Loss: 2.2302\n",
      "Epoch: 1/3...  Loss: 2.2125\n",
      "Epoch: 1/3...  Loss: 2.1958\n",
      "Epoch: 1/3...  Loss: 2.1813\n",
      "Epoch: 1/3...  Loss: 2.1685\n",
      "Epoch: 2/3...  Loss: 1.1825\n",
      "Epoch: 2/3...  Loss: 2.1486\n",
      "Epoch: 2/3...  Loss: 2.1275\n",
      "Epoch: 2/3...  Loss: 2.1001\n",
      "Epoch: 2/3...  Loss: 2.0849\n",
      "Epoch: 2/3...  Loss: 2.0899\n",
      "Epoch: 2/3...  Loss: 2.0747\n",
      "Epoch: 2/3...  Loss: 2.0669\n",
      "Epoch: 2/3...  Loss: 2.0636\n",
      "Epoch: 2/3...  Loss: 2.0641\n",
      "Epoch: 2/3...  Loss: 2.0473\n",
      "Epoch: 2/3...  Loss: 2.0310\n",
      "Epoch: 2/3...  Loss: 2.0209\n",
      "Epoch: 2/3...  Loss: 2.0174\n",
      "Epoch: 2/3...  Loss: 2.0105\n",
      "Epoch: 2/3...  Loss: 1.9980\n",
      "Epoch: 2/3...  Loss: 1.9724\n",
      "Epoch: 2/3...  Loss: 1.9741\n",
      "Epoch: 2/3...  Loss: 1.9677\n",
      "Epoch: 2/3...  Loss: 1.9508\n",
      "Epoch: 2/3...  Loss: 1.9447\n",
      "Epoch: 2/3...  Loss: 1.9306\n",
      "Epoch: 2/3...  Loss: 1.9449\n",
      "Epoch: 3/3...  Loss: 0.1928\n",
      "Epoch: 3/3...  Loss: 1.9022\n",
      "Epoch: 3/3...  Loss: 1.9063\n",
      "Epoch: 3/3...  Loss: 1.8859\n",
      "Epoch: 3/3...  Loss: 1.8754\n",
      "Epoch: 3/3...  Loss: 1.8709\n",
      "Epoch: 3/3...  Loss: 1.8706\n",
      "Epoch: 3/3...  Loss: 1.8557\n",
      "Epoch: 3/3...  Loss: 1.8426\n",
      "Epoch: 3/3...  Loss: 1.8419\n",
      "Epoch: 3/3...  Loss: 1.8289\n",
      "Epoch: 3/3...  Loss: 1.8456\n",
      "Epoch: 3/3...  Loss: 1.8305\n",
      "Epoch: 3/3...  Loss: 1.8315\n",
      "Epoch: 3/3...  Loss: 1.8230\n",
      "Epoch: 3/3...  Loss: 1.8140\n",
      "Epoch: 3/3...  Loss: 1.8075\n",
      "Epoch: 3/3...  Loss: 1.8169\n",
      "Epoch: 3/3...  Loss: 1.8124\n",
      "Epoch: 3/3...  Loss: 1.8083\n",
      "Epoch: 3/3...  Loss: 1.7994\n",
      "Epoch: 3/3...  Loss: 1.8037\n",
      "Epoch: 3/3...  Loss: 1.8009\n",
      "Epoch: 3/3...  Loss: 1.7875\n"
     ]
    }
   ],
   "source": [
    "# TODO: Train the network here\n",
    "\n",
    "# PyTorch의 일반적인 Deep Learning 프로세스\n",
    "#1. 네트워크를 forawd해서 로짓을 얻는다.\n",
    "#2. 로짓을 사용해 손실을 구한다.\n",
    "#3. backward()함수를 사용해 backward를 진행해 그라디언트를 계산한다.\n",
    "#4. 최적화 함수로 가중치를 업데이트 한다.\n",
    "\n",
    "epochs = 3\n",
    "print_every = 40\n",
    "steps = 0\n",
    "for e in range(epochs):\n",
    "    running_loss = 0\n",
    "    for images, labels in iter(trainloader): #배치별로 가져온다.\n",
    "        steps += 1\n",
    "        # Flatten MNIST images into a 784 long vector\n",
    "        images.resize_(images.size()[0], 784)\n",
    "        \n",
    "        optimizer.zero_grad() #초기화\n",
    "        \n",
    "        # Forward and backward passes\n",
    "        output = model.forward(images) #forward\n",
    "        loss = criterion(output, labels) \n",
    "        loss.backward() #backward\n",
    "        optimizer.step() #update\n",
    "        \n",
    "        running_loss += loss.item() #손실을 축적한다.\n",
    "        \n",
    "        if steps % print_every == 0: #40번 때 마다 출력\n",
    "            print(\"Epoch: {}/{}... \".format(e+1, epochs),\n",
    "                  \"Loss: {:.4f}\".format(running_loss/print_every))\n",
    "            \n",
    "            running_loss = 0\n",
    "            #40번 마다 누적된 손실의 평균을 출력하고, 0으로 초기화"
   ]
  },
  {
   "cell_type": "code",
   "execution_count": 11,
   "metadata": {},
   "outputs": [
    {
     "data": {
      "image/png": "[encoded data removed]",
      "text/plain": [
       "<matplotlib.figure.Figure at 0x7f17235ca710>"
      ]
     },
     "metadata": {
      "image/png": {
       "height": 204,
       "width": 423
      }
     },
     "output_type": "display_data"
    }
   ],
   "source": [
    "# Test out your network!\n",
    "\n",
    "dataiter = iter(testloader)\n",
    "images, labels = dataiter.next()\n",
    "img = images[0]\n",
    "# Convert 2D image to 1D vector\n",
    "img = img.resize_(1, 784)\n",
    "\n",
    "with torch.no_grad():\n",
    "    logits = model.forward(img)\n",
    "\n",
    "# TODO: Calculate the class probabilities (softmax) for img\n",
    "ps = F.softmax(logits, dim=1)\n",
    "\n",
    "# Plot the image and probabilities\n",
    "helper.view_classify(img.resize_(1, 28, 28), ps, version='Fashion')"
   ]
  },
  {
   "cell_type": "markdown",
   "metadata": {},
   "source": [
    "Now that your network is trained, you'll want to save it to disk so you can load it later instead of training it again. Obviously, it's impractical to train a network every time you need one. In practice, you'll train it once, save the model, then reload it for further training or making predictions. In the next part, I'll show you how to save and load trained models."
   ]
  }
 ],
 "metadata": {
  "kernelspec": {
   "display_name": "Python 3",
   "language": "python",
   "name": "python3"
  },
  "language_info": {
   "codemirror_mode": {
    "name": "ipython",
    "version": 3
   },
   "file_extension": ".py",
   "mimetype": "text/x-python",
   "name": "python",
   "nbconvert_exporter": "python",
   "pygments_lexer": "ipython3",
   "version": "3.6.3"
  }
 },
 "nbformat": 4,
 "nbformat_minor": 2
}
