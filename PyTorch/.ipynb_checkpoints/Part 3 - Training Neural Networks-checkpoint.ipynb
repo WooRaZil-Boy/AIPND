{
 "cells": [
  {
   "cell_type": "markdown",
   "metadata": {},
   "source": [
    "# Training Neural Networks\n",
    "\n",
    "The network we built in the previous part isn't so smart, it doesn't know anything about our handwritten digits. Neural networks with non-linear activations work like universal function approximators. There is some function that maps your input to the output. For example, images of handwritten digits to class probabilities. The power of neural networks is that we can train them to approximate this function, and basically any function given enough data and compute time.\n",
    "\n",
    "<img src=\"assets/function_approx.png\" width=500px>\n",
    "\n",
    "At first the network is naive, it doesn't know the function mapping the inputs to the outputs. We train the network by showing it examples of real data, then adjusting the network parameters such that it approximates this function.\n",
    "\n",
    "To find these parameters, we need to know how poorly the network is predicting the real outputs. For this we calculate a **loss function** (also called the cost), a measure of our prediction error. For example, the mean squared loss is often used in regression and binary classification problems\n",
    "\n",
    "$$\n",
    "\\ell = \\frac{1}{2n}\\sum_i^n{\\left(y_i - \\hat{y}_i\\right)^2}\n",
    "$$\n",
    "\n",
    "where $n$ is the number of training examples, $y_i$ are the true labels, and $\\hat{y}_i$ are the predicted labels.\n",
    "\n",
    "By minimizing this loss with respect to the network parameters, we can find configurations where the loss is at a minimum and the network is able to predict the correct labels with high accuracy. We find this minimum using a process called **gradient descent**. The gradient is the slope of the loss function and points in the direction of fastest change. To get to the minimum in the least amount of time, we then want to follow the gradient (downwards). You can think of this like descending a mountain by following the steepest slope to the base.\n",
    "\n",
    "<img src='assets/gradient_descent.png' width=350px>"
   ]
  },
  {
   "cell_type": "markdown",
   "metadata": {},
   "source": [
    "## Backpropagation\n",
    "\n",
    "For single layer networks, gradient descent is simple to implement. However, it's more complicated for deeper, multilayer neural networks like the one we've built. Complicated enough that it took about 30 years before researchers figured out how to train multilayer networks, although it's straightforward once you learn about it. \n",
    "\n",
    "This is done through **backpropagation** which is really just an application of the chain rule from calculus. It's easiest to understand if we convert a two layer network into a graph representation.\n",
    "\n",
    "<img src='assets/w1_backprop_graph.png' width=400px>\n",
    "\n",
    "In the forward pass through the network, our data and operations go from right to left here. To train the weights with gradient descent, we propagate the gradient of the cost backwards through the network. Mathematically, this is really just calculating the gradient of the loss with respect to the weights using the chain rule.\n",
    "\n",
    "$$\n",
    "\\frac{\\partial \\ell}{\\partial w_1} = \\frac{\\partial l_1}{\\partial w_1} \\frac{\\partial s}{\\partial l_1} \\frac{\\partial l_2}{\\partial s} \\frac{\\partial \\ell}{\\partial l_2}\n",
    "$$\n",
    "\n",
    "We update our weights using this gradient with some learning rate $\\alpha$. \n",
    "\n",
    "$$\n",
    "w^\\prime = w - \\alpha \\frac{\\partial \\ell}{\\partial w}\n",
    "$$\n",
    "\n",
    "The learning rate is set such that the weight update steps are small enough that the iterative method settles in a minimum.\n",
    "\n",
    "The first thing we need to do for training is define our loss function. In PyTorch, you'll usually see this as `criterion`. Here we're using softmax output, so we want to use `criterion = nn.CrossEntropyLoss()` as our loss. Later when training, you use `loss = criterion(output, targets)` to calculate the actual loss.\n",
    "\n",
    "We also need to define the optimizer we're using, SGD or Adam, or something along those lines. Here I'll just use SGD with `torch.optim.SGD`, passing in the network parameters and the learning rate."
   ]
  },
  {
   "cell_type": "markdown",
   "metadata": {},
   "source": [
    "## Autograd\n",
    "\n",
    "Torch provides a module, `autograd`, for automatically calculating the gradient of tensors. It does this by keeping track of operations performed on tensors. To make sure PyTorch keeps track of operations on a tensor and calculates the gradients, you need to set `requires_grad` on a tensor. You can do this at creation with the `requires_grad` keyword, or at any time with `x.requires_grad_(True)`.\n",
    "\n",
    "You can turn off gradients for a block of code with the `torch.no_grad()` content:\n",
    "```python\n",
    "x = torch.zeros(1, requires_grad=True)\n",
    ">>> with torch.no_grad():\n",
    "...     y = x * 2\n",
    ">>> y.requires_grad\n",
    "False\n",
    "```\n",
    "\n",
    "Also, you can turn on or off gradients altogether with `torch.set_grad_enabled(True|False)`.\n",
    "\n",
    "The gradients are computed with respect to some variable `z` with `z.backward()`. This does a backward pass through the operations that created `z`."
   ]
  },
  {
   "cell_type": "code",
   "execution_count": 1,
   "metadata": {},
   "outputs": [],
   "source": [
    "%matplotlib inline\n",
    "%config InlineBackend.figure_format = 'retina'\n",
    "\n",
    "from collections import OrderedDict\n",
    "\n",
    "import numpy as np\n",
    "import time\n",
    "\n",
    "import torch\n",
    "from torch import nn\n",
    "from torch import optim\n",
    "import torch.nn.functional as F\n",
    "\n",
    "import helper"
   ]
  },
  {
   "cell_type": "code",
   "execution_count": 2,
   "metadata": {},
   "outputs": [
    {
     "name": "stdout",
     "output_type": "stream",
     "text": [
      "tensor([[ 0.9884, -0.7704],\n",
      "        [-0.4261,  0.4691]])\n"
     ]
    }
   ],
   "source": [
    "x = torch.randn(2,2, requires_grad=True) #2 x 2 행렬.\n",
    "#requires_grad로 오토 그라디언트 사용 여부를 지정한다. 자동 미분\n",
    "#requires_grad는 텐서의 연산(기울기 계산)을 추적한다. 계산 작업이 완료 되었다면, backward()로 그라디언트를 역방향으로 전달해 자동으로 계산한다.\n",
    "#no_grad()로 오토 그라디언트 속성을 해제 할 수 있다. set_grad_enabled(True | False)로 켜고 끌 수 있다.\n",
    "print(x)\n",
    "\n",
    "#foward 함수만 정의하고 나면, 기울기(변화)를 계산하는 backward는 autograd로 자동 정의할 수 있다.\n",
    "#https://9bow.github.io/PyTorch-tutorials-kr/beginner/blitz/autograd_tutorial.html#tensor"
   ]
  },
  {
   "cell_type": "code",
   "execution_count": 3,
   "metadata": {},
   "outputs": [
    {
     "name": "stdout",
     "output_type": "stream",
     "text": [
      "tensor([[ 0.9769,  0.5934],\n",
      "        [ 0.1815,  0.2201]])\n"
     ]
    }
   ],
   "source": [
    "y = x**2\n",
    "print(y)"
   ]
  },
  {
   "cell_type": "markdown",
   "metadata": {},
   "source": [
    "Below we can see the operation that created `y`, a power operation `PowBackward0`."
   ]
  },
  {
   "cell_type": "code",
   "execution_count": 4,
   "metadata": {},
   "outputs": [
    {
     "name": "stdout",
     "output_type": "stream",
     "text": [
      "<PowBackward0 object at 0x7f74943b1cc0>\n"
     ]
    }
   ],
   "source": [
    "## grad_fn shows the function that generated this variable\n",
    "print(y.grad_fn)\n",
    "#텐서는 Fuction을 참조하는 grad_fn 속성을 가지고 있다. (사용자가 직접 생성한 텐서는 기본으로 None 상태)\n",
    "#여기서 y는 연산의 결과로 생성된 것이므로 grad_fn를 가지고 있다."
   ]
  },
  {
   "cell_type": "markdown",
   "metadata": {},
   "source": [
    "The autgrad module keeps track of these operations and knows how to calculate the gradient for each one. In this way, it's able to calculate the gradients for a chain of operations, with respect to any one tensor. Let's reduce the tensor `y` to a scalar value, the mean."
   ]
  },
  {
   "cell_type": "code",
   "execution_count": 5,
   "metadata": {},
   "outputs": [
    {
     "name": "stdout",
     "output_type": "stream",
     "text": [
      "tensor(0.4930)\n"
     ]
    }
   ],
   "source": [
    "z = y.mean()\n",
    "print(z)\n",
    "\n",
    "#requires_grad는 이런 작업을 추적하고, 각 작업에 대한 그라디언트를 계산한다."
   ]
  },
  {
   "cell_type": "markdown",
   "metadata": {},
   "source": [
    "You can check the gradients for `x` and `y` but they are empty currently."
   ]
  },
  {
   "cell_type": "code",
   "execution_count": 6,
   "metadata": {},
   "outputs": [
    {
     "name": "stdout",
     "output_type": "stream",
     "text": [
      "None\n"
     ]
    }
   ],
   "source": [
    "print(x.grad)"
   ]
  },
  {
   "cell_type": "markdown",
   "metadata": {},
   "source": [
    "To calculate the gradients, you need to run the `.backward` method on a Variable, `z` for example. This will calculate the gradient for `z` with respect to `x`\n",
    "\n",
    "$$\n",
    "\\frac{\\partial z}{\\partial x} = \\frac{\\partial}{\\partial x}\\left[\\frac{1}{n}\\sum_i^n x_i^2\\right] = \\frac{x}{2}\n",
    "$$"
   ]
  },
  {
   "cell_type": "code",
   "execution_count": 7,
   "metadata": {},
   "outputs": [
    {
     "name": "stdout",
     "output_type": "stream",
     "text": [
      "tensor([[ 0.4942, -0.3852],\n",
      "        [-0.2130,  0.2346]])\n",
      "tensor([[ 0.4942, -0.3852],\n",
      "        [-0.2130,  0.2346]])\n"
     ]
    }
   ],
   "source": [
    "z.backward() #backward를 진행했으므로 grad가 생긴다.\n",
    "print(x.grad) #x에 대한 z의 기울기 dz/dx\n",
    "print(x/2)\n",
    "#두 값이 같다."
   ]
  },
  {
   "cell_type": "markdown",
   "metadata": {},
   "source": [
    "These gradients calculations are particularly useful for neural networks. For training we need the gradients of the weights with respect to the cost. With PyTorch, we run data forward through the network to calculate the cost, then, go backwards to calculate the gradients with respect to the cost. Once we have the gradients we can make a gradient descent step. "
   ]
  },
  {
   "cell_type": "markdown",
   "metadata": {},
   "source": [
    "## Get the data and define the network\n",
    "\n",
    "The same as we saw in part 3, we'll load the MNIST dataset and define our network."
   ]
  },
  {
   "cell_type": "code",
   "execution_count": 8,
   "metadata": {},
   "outputs": [],
   "source": [
    "from torchvision import datasets, transforms\n",
    "\n",
    "# Define a transform to normalize the data\n",
    "transform = transforms.Compose([transforms.ToTensor(),\n",
    "                              transforms.Normalize((0.5, 0.5, 0.5), (0.5, 0.5, 0.5)),\n",
    "                             ])\n",
    "# Download and load the training data\n",
    "trainset = datasets.MNIST('MNIST_data/', download=True, train=True, transform=transform)\n",
    "trainloader = torch.utils.data.DataLoader(trainset, batch_size=64, shuffle=True)"
   ]
  },
  {
   "cell_type": "markdown",
   "metadata": {},
   "source": [
    "I'll build a network with `nn.Sequential` here. Only difference from the last part is I'm not actually using softmax on the output, but instead just using the raw output from the last layer. This is because the output from softmax is a probability distribution. Often, the output will have values really close to zero or really close to one. Due to [inaccuracies with representing numbers as floating points](https://docs.python.org/3/tutorial/floatingpoint.html), computations with a softmax output can lose accuracy and become unstable. To get around this, we'll use the raw output, called the **logits**, to calculate the loss."
   ]
  },
  {
   "cell_type": "code",
   "execution_count": 9,
   "metadata": {},
   "outputs": [],
   "source": [
    "# Hyperparameters for our network\n",
    "input_size = 784\n",
    "hidden_sizes = [128, 64]\n",
    "output_size = 10\n",
    "\n",
    "# Build a feed-forward network\n",
    "model = nn.Sequential(OrderedDict([\n",
    "                      ('fc1', nn.Linear(input_size, hidden_sizes[0])),\n",
    "                      ('relu1', nn.ReLU()),\n",
    "                      ('fc2', nn.Linear(hidden_sizes[0], hidden_sizes[1])),\n",
    "                      ('relu2', nn.ReLU()),\n",
    "                      ('logits', nn.Linear(hidden_sizes[1], output_size))]))"
   ]
  },
  {
   "cell_type": "markdown",
   "metadata": {},
   "source": [
    "## Training the network!\n",
    "\n",
    "The first thing we need to do for training is define our loss function. In PyTorch, you'll usually see this as `criterion`. Here we're using softmax output, so we want to use `criterion = nn.CrossEntropyLoss()` as our loss. Later when training, you use `loss = criterion(output, targets)` to calculate the actual loss.\n",
    "\n",
    "We also need to define the optimizer we're using, SGD or Adam, or something along those lines. Here I'll just use SGD with `torch.optim.SGD`, passing in the network parameters and the learning rate."
   ]
  },
  {
   "cell_type": "code",
   "execution_count": 10,
   "metadata": {},
   "outputs": [],
   "source": [
    "criterion = nn.CrossEntropyLoss() #손실 함수\n",
    "optimizer = optim.SGD(model.parameters(), lr=0.01) #최적화 함수"
   ]
  },
  {
   "cell_type": "markdown",
   "metadata": {},
   "source": [
    "First, let's consider just one learning step before looping through all the data. The general process with PyTorch:\n",
    "\n",
    "* Make a forward pass through the network to get the logits \n",
    "* Use the logits to calculate the loss\n",
    "* Perform a backward pass through the network with `loss.backward()` to calculate the gradients\n",
    "* Take a step with the optimizer to update the weights\n",
    "\n",
    "Below I'll go through one training step and print out the weights and gradients so you can see how it changes."
   ]
  },
  {
   "cell_type": "code",
   "execution_count": 11,
   "metadata": {},
   "outputs": [
    {
     "name": "stdout",
     "output_type": "stream",
     "text": [
      "Initial weights -  Parameter containing:\n",
      "tensor([[ 1.0098e-02, -3.4799e-02,  7.4504e-03,  ...,  9.9423e-03,\n",
      "          1.9646e-02,  3.4729e-03],\n",
      "        [-2.2836e-03, -5.0188e-03,  3.0471e-02,  ..., -2.0746e-02,\n",
      "          2.3190e-02, -1.0607e-02],\n",
      "        [ 7.8642e-03, -2.4559e-02,  2.6093e-02,  ..., -1.0387e-02,\n",
      "         -3.1774e-02, -2.0078e-02],\n",
      "        ...,\n",
      "        [ 2.1904e-02,  2.6433e-02, -1.6247e-02,  ..., -2.1297e-02,\n",
      "         -2.1141e-02, -2.2152e-02],\n",
      "        [ 2.5850e-02,  2.5035e-02,  2.9438e-02,  ...,  3.8800e-03,\n",
      "         -3.2661e-03, -1.8360e-02],\n",
      "        [-9.9867e-03,  2.2644e-02,  1.0550e-02,  ...,  1.3369e-02,\n",
      "         -1.0737e-02,  3.5423e-02]])\n",
      "Gradient - tensor(1.00000e-02 *\n",
      "       [[ 0.0463,  0.0463,  0.0463,  ...,  0.0463,  0.0463,  0.0463],\n",
      "        [-0.4169, -0.4169, -0.4169,  ..., -0.4169, -0.4169, -0.4169],\n",
      "        [ 0.2397,  0.2397,  0.2397,  ...,  0.2397,  0.2397,  0.2397],\n",
      "        ...,\n",
      "        [ 0.1155,  0.1155,  0.1155,  ...,  0.1155,  0.1155,  0.1155],\n",
      "        [-0.0547, -0.0547, -0.0547,  ..., -0.0547, -0.0547, -0.0547],\n",
      "        [-0.0206, -0.0206, -0.0206,  ..., -0.0206, -0.0206, -0.0206]])\n"
     ]
    }
   ],
   "source": [
    "# PyTorch의 일반적인 Deep Learning 프로세스\n",
    "#1. 네트워크를 forawd해서 로짓을 얻는다.\n",
    "#2. 로짓을 사용해 손실을 구한다.\n",
    "#3. backward()함수를 사용해 backward를 진행해 그라디언트를 계산한다.\n",
    "#4. 최적화 함수로 가중치를 업데이트 한다.\n",
    "\n",
    "print('Initial weights - ', model.fc1.weight)\n",
    "\n",
    "images, labels = next(iter(trainloader)) #배치별로 iter\n",
    "images.resize_(64, 784)\n",
    "\n",
    "# Clear the gradients, do this because gradients are accumulated\n",
    "optimizer.zero_grad() #기울기가 누적되기 때문에 초기화 시켜줘야 한다.\n",
    "\n",
    "# Forward pass, then backward pass, then update weights\n",
    "output = model.forward(images) #forward\n",
    "loss = criterion(output, labels) #손실함수에 로짓(forward의 output)과, 정답 레이블을 넣어 손실을 구한다.\n",
    "loss.backward() #backward\n",
    "print('Gradient -', model.fc1.weight.grad)\n",
    "optimizer.step() #가중치 업데이트"
   ]
  },
  {
   "cell_type": "code",
   "execution_count": 12,
   "metadata": {},
   "outputs": [
    {
     "name": "stdout",
     "output_type": "stream",
     "text": [
      "Updated weights -  Parameter containing:\n",
      "tensor([[ 1.0094e-02, -3.4804e-02,  7.4458e-03,  ...,  9.9376e-03,\n",
      "          1.9642e-02,  3.4683e-03],\n",
      "        [-2.2419e-03, -4.9771e-03,  3.0513e-02,  ..., -2.0705e-02,\n",
      "          2.3232e-02, -1.0565e-02],\n",
      "        [ 7.8402e-03, -2.4583e-02,  2.6069e-02,  ..., -1.0411e-02,\n",
      "         -3.1798e-02, -2.0102e-02],\n",
      "        ...,\n",
      "        [ 2.1893e-02,  2.6421e-02, -1.6259e-02,  ..., -2.1309e-02,\n",
      "         -2.1153e-02, -2.2163e-02],\n",
      "        [ 2.5856e-02,  2.5040e-02,  2.9443e-02,  ...,  3.8854e-03,\n",
      "         -3.2606e-03, -1.8354e-02],\n",
      "        [-9.9846e-03,  2.2646e-02,  1.0552e-02,  ...,  1.3372e-02,\n",
      "         -1.0735e-02,  3.5425e-02]])\n"
     ]
    }
   ],
   "source": [
    "print('Updated weights - ', model.fc1.weight)"
   ]
  },
  {
   "cell_type": "markdown",
   "metadata": {},
   "source": [
    "### Training for real\n",
    "\n",
    "Now we'll put this algorithm into a loop so we can go through all the images. This is fairly straightforward. We'll loop through the mini-batches in our dataset, pass the data through the network to calculate the losses, get the gradients, then run the optimizer."
   ]
  },
  {
   "cell_type": "code",
   "execution_count": 13,
   "metadata": {},
   "outputs": [],
   "source": [
    "optimizer = optim.SGD(model.parameters(), lr=0.003)"
   ]
  },
  {
   "cell_type": "code",
   "execution_count": 14,
   "metadata": {},
   "outputs": [
    {
     "name": "stdout",
     "output_type": "stream",
     "text": [
      "Epoch: 1/3...  Loss: 2.2925\n",
      "Epoch: 1/3...  Loss: 2.2787\n",
      "Epoch: 1/3...  Loss: 2.2608\n",
      "Epoch: 1/3...  Loss: 2.2480\n",
      "Epoch: 1/3...  Loss: 2.2297\n",
      "Epoch: 1/3...  Loss: 2.2075\n",
      "Epoch: 1/3...  Loss: 2.1885\n",
      "Epoch: 1/3...  Loss: 2.1609\n",
      "Epoch: 1/3...  Loss: 2.1388\n",
      "Epoch: 1/3...  Loss: 2.1062\n",
      "Epoch: 1/3...  Loss: 2.0752\n",
      "Epoch: 1/3...  Loss: 2.0266\n",
      "Epoch: 1/3...  Loss: 1.9976\n",
      "Epoch: 1/3...  Loss: 1.9326\n",
      "Epoch: 1/3...  Loss: 1.8792\n",
      "Epoch: 1/3...  Loss: 1.8309\n",
      "Epoch: 1/3...  Loss: 1.7672\n",
      "Epoch: 1/3...  Loss: 1.7129\n",
      "Epoch: 1/3...  Loss: 1.6385\n",
      "Epoch: 1/3...  Loss: 1.5601\n",
      "Epoch: 1/3...  Loss: 1.4939\n",
      "Epoch: 1/3...  Loss: 1.4178\n",
      "Epoch: 1/3...  Loss: 1.3300\n",
      "Epoch: 2/3...  Loss: 0.6988\n",
      "Epoch: 2/3...  Loss: 1.2382\n",
      "Epoch: 2/3...  Loss: 1.1602\n",
      "Epoch: 2/3...  Loss: 1.0928\n",
      "Epoch: 2/3...  Loss: 1.0588\n",
      "Epoch: 2/3...  Loss: 1.0167\n",
      "Epoch: 2/3...  Loss: 0.9510\n",
      "Epoch: 2/3...  Loss: 0.9354\n",
      "Epoch: 2/3...  Loss: 0.9058\n",
      "Epoch: 2/3...  Loss: 0.8605\n",
      "Epoch: 2/3...  Loss: 0.8264\n",
      "Epoch: 2/3...  Loss: 0.7922\n",
      "Epoch: 2/3...  Loss: 0.7667\n",
      "Epoch: 2/3...  Loss: 0.7432\n",
      "Epoch: 2/3...  Loss: 0.7428\n",
      "Epoch: 2/3...  Loss: 0.6818\n",
      "Epoch: 2/3...  Loss: 0.6940\n",
      "Epoch: 2/3...  Loss: 0.6670\n",
      "Epoch: 2/3...  Loss: 0.6637\n",
      "Epoch: 2/3...  Loss: 0.6451\n",
      "Epoch: 2/3...  Loss: 0.6242\n",
      "Epoch: 2/3...  Loss: 0.6392\n",
      "Epoch: 2/3...  Loss: 0.6137\n",
      "Epoch: 3/3...  Loss: 0.0548\n",
      "Epoch: 3/3...  Loss: 0.6000\n",
      "Epoch: 3/3...  Loss: 0.5883\n",
      "Epoch: 3/3...  Loss: 0.5544\n",
      "Epoch: 3/3...  Loss: 0.5310\n",
      "Epoch: 3/3...  Loss: 0.5386\n",
      "Epoch: 3/3...  Loss: 0.5586\n",
      "Epoch: 3/3...  Loss: 0.5183\n",
      "Epoch: 3/3...  Loss: 0.5184\n",
      "Epoch: 3/3...  Loss: 0.5135\n",
      "Epoch: 3/3...  Loss: 0.5253\n",
      "Epoch: 3/3...  Loss: 0.4921\n",
      "Epoch: 3/3...  Loss: 0.4981\n",
      "Epoch: 3/3...  Loss: 0.4912\n",
      "Epoch: 3/3...  Loss: 0.4860\n",
      "Epoch: 3/3...  Loss: 0.5026\n",
      "Epoch: 3/3...  Loss: 0.5112\n",
      "Epoch: 3/3...  Loss: 0.4792\n",
      "Epoch: 3/3...  Loss: 0.4820\n",
      "Epoch: 3/3...  Loss: 0.4933\n",
      "Epoch: 3/3...  Loss: 0.4872\n",
      "Epoch: 3/3...  Loss: 0.4552\n",
      "Epoch: 3/3...  Loss: 0.4517\n",
      "Epoch: 3/3...  Loss: 0.4563\n"
     ]
    }
   ],
   "source": [
    "#위에서 구현된 한 번의 학습을 여러번 반복하면 된다.\n",
    "\n",
    "epochs = 3\n",
    "print_every = 40\n",
    "steps = 0\n",
    "for e in range(epochs):\n",
    "    running_loss = 0\n",
    "    for images, labels in iter(trainloader): #배치별로 가져온다.\n",
    "        steps += 1\n",
    "        # Flatten MNIST images into a 784 long vector\n",
    "        images.resize_(images.size()[0], 784)\n",
    "        \n",
    "        optimizer.zero_grad() #초기화\n",
    "        \n",
    "        # Forward and backward passes\n",
    "        output = model.forward(images) #forward\n",
    "        loss = criterion(output, labels) \n",
    "        loss.backward() #backward\n",
    "        optimizer.step() #update\n",
    "        \n",
    "        running_loss += loss.item() #손실을 축적한다.\n",
    "        \n",
    "        if steps % print_every == 0: #40번 때 마다 출력\n",
    "            print(\"Epoch: {}/{}... \".format(e+1, epochs),\n",
    "                  \"Loss: {:.4f}\".format(running_loss/print_every))\n",
    "            \n",
    "            running_loss = 0\n",
    "            #40번 마다 누적된 손실의 평균을 출력하고, 0으로 초기화"
   ]
  },
  {
   "cell_type": "markdown",
   "metadata": {},
   "source": [
    "With the network trained, we can check out it's predictions."
   ]
  },
  {
   "cell_type": "code",
   "execution_count": 15,
   "metadata": {},
   "outputs": [
    {
     "data": {
      "image/png": "[encoded data removed]",
      "text/plain": [
       "<matplotlib.figure.Figure at 0x7f7445fcc828>"
      ]
     },
     "metadata": {
      "image/png": {
       "height": 224,
       "width": 423
      }
     },
     "output_type": "display_data"
    }
   ],
   "source": [
    "images, labels = next(iter(trainloader))\n",
    "\n",
    "img = images[0].view(1, 784)\n",
    "# Turn off gradients to speed up this part\n",
    "with torch.no_grad():\n",
    "    logits = model.forward(img)\n",
    "\n",
    "# Output of the network are logits, need to take softmax for probabilities\n",
    "ps = F.softmax(logits, dim=1)\n",
    "helper.view_classify(img.view(1, 28, 28), ps)\n",
    "#학습된 모델로 예측"
   ]
  },
  {
   "cell_type": "markdown",
   "metadata": {},
   "source": [
    "Now our network is brilliant. It can accurately predict the digits in our images. Next up you'll write the code for training a neural network on a more complex dataset."
   ]
  }
 ],
 "metadata": {
  "kernelspec": {
   "display_name": "Python [default]",
   "language": "python",
   "name": "python3"
  },
  "language_info": {
   "codemirror_mode": {
    "name": "ipython",
    "version": 3
   },
   "file_extension": ".py",
   "mimetype": "text/x-python",
   "name": "python",
   "nbconvert_exporter": "python",
   "pygments_lexer": "ipython3",
   "version": "3.6.6"
  }
 },
 "nbformat": 4,
 "nbformat_minor": 2
}
